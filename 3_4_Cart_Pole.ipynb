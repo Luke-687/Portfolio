{
  "nbformat": 4,
  "nbformat_minor": 0,
  "metadata": {
    "colab": {
      "provenance": [],
      "authorship_tag": "ABX9TyMmeycFtINfPR0QOU9Y/4gx",
      "include_colab_link": true
    },
    "kernelspec": {
      "name": "python3",
      "display_name": "Python 3"
    },
    "language_info": {
      "name": "python"
    }
  },
  "cells": [
    {
      "cell_type": "markdown",
      "metadata": {
        "id": "view-in-github",
        "colab_type": "text"
      },
      "source": [
        "<a href=\"https://colab.research.google.com/github/Luke-687/Portfolio/blob/main/3_4_Cart_Pole.ipynb\" target=\"_parent\"><img src=\"https://colab.research.google.com/assets/colab-badge.svg\" alt=\"Open In Colab\"/></a>"
      ]
    },
    {
      "cell_type": "code",
      "source": [
        "import gymnasium as gym\n",
        "import numpy as np\n",
        "from collections import defaultdict\n",
        "\n",
        "#Establish environment\n",
        "env = gym.make('CartPole-v1', render_mode = None)\n",
        "\n",
        "#Establish bounds of environment\n",
        "def boundaries():\n",
        "  bounds = [\n",
        "      np.linspace(-4.8,4.8,10), #Cart Pos.\n",
        "      np.linspace(-4,4,10), #cart vel.\n",
        "      np.linspace(-0.9, 0.9, 10), #Pole ang.\n",
        "      np.linspace(-4,4,10) #Pole vel. at tip\n",
        "  ]\n",
        "  return bounds\n",
        "\n",
        "def discretize(obs, bins):\n",
        "    return tuple(int(np.digitize(x, b) - 1) for x, b in zip(obs, bins))\n",
        "\n",
        "#Begin to set up MDP\n",
        "actions = env.action_space.n\n",
        "bins = boundaries()\n",
        "gamma = 0.4\n",
        "theta = 0.0001\n",
        "\n",
        "V = defaultdict(float)\n",
        "policy = {}\n",
        "\n",
        "def optimize(iterations):\n",
        "  for x in range(0, iterations):\n",
        "    d = 0\n",
        "    for i in range(0,10):\n",
        "      for j in range(0,10):\n",
        "        for k in range(0,10):\n",
        "          for l in range(0,10):\n",
        "            #d tracks convergence\n",
        "            state = (i,j,k,l)\n",
        "            v = V[state]\n",
        "            max_value = float('-inf')\n",
        "            bestAct = 0\n",
        "            for a in range(actions):\n",
        "              total = 0\n",
        "              for z in range(0,5):\n",
        "                obs = [\n",
        "                      (bins[0][i] + bins[0][min(i+1, 9)]) / 2,\n",
        "                      (bins[1][j] + bins[1][min(j+1, 9)]) / 2,\n",
        "                      (bins[2][k] + bins[2][min(k+1, 9)]) / 2,\n",
        "                      (bins[3][l] + bins[3][min(l+1, 9)]) / 2\n",
        "                      ]\n",
        "                env.reset()\n",
        "                env.unwrapped.state = np.array(obs)\n",
        "                obs, reward, terminated, truncated, _ = env.step(a)\n",
        "                done = terminated or truncated\n",
        "                disc_obs = discretize(obs, bins)\n",
        "                total += reward + gamma * V[disc_obs] * (0 if done else 1)\n",
        "              total/=5\n",
        "              if total>max_value:\n",
        "                max_value = total\n",
        "                bestAct = a\n",
        "            V[state] = max_value\n",
        "            policy[state] = bestAct\n",
        "            d = max(d, abs(v-max_value))\n",
        "            iterations+=1\n",
        "        if theta>d:\n",
        "          break\n",
        "  return V, policy\n",
        "\n",
        "#Run model (use the policy)\n",
        "def run(render=False):\n",
        "    obs, x = env.reset()\n",
        "    totReward = 0\n",
        "\n",
        "    for t in range(500):  #500 posible trials\n",
        "        state = discretize(obs, bins)\n",
        "        action = policy.get(state, env.action_space.sample())  # fallback to random if unseen\n",
        "        obs, reward, terminated, truncated, x = env.step(action)\n",
        "        totReward += reward\n",
        "        if render:\n",
        "            env.render()\n",
        "        if terminated or truncated:\n",
        "            break\n",
        "\n",
        "    return totReward"
      ],
      "metadata": {
        "id": "bdi7bMZzybtI"
      },
      "execution_count": null,
      "outputs": []
    },
    {
      "cell_type": "code",
      "source": [
        "#Create policy\n",
        "V,policy = optimize(1)\n",
        "\n",
        "#Find rewards\n",
        "timesTested = 10000  #Num times tested\n",
        "scores = [run(render=False) for x in range(timesTested)]\n",
        "print(f\"Average Reward over 100 episodes: {np.mean(scores)}\")\n",
        "print(f\"Max Reward: {np.max(scores)}\")\n",
        "print(f\"Min Reward: {np.min(scores)}\")"
      ],
      "metadata": {
        "colab": {
          "base_uri": "https://localhost:8080/"
        },
        "id": "XHGg3qktgwqb",
        "outputId": "ad1312db-d86e-4e1d-d26f-c9fb21cdd60a"
      },
      "execution_count": null,
      "outputs": [
        {
          "output_type": "stream",
          "name": "stdout",
          "text": [
            "Average Reward over 100 episodes: 9.3612\n",
            "Max Reward: 11.0\n",
            "Min Reward: 8.0\n"
          ]
        }
      ]
    },
    {
      "cell_type": "code",
      "source": [
        "#Sim is from chat gpt\n",
        "\n",
        "import matplotlib.pyplot as plt\n",
        "import numpy as np\n",
        "import time\n",
        "from IPython.display import clear_output\n",
        "\n",
        "def draw_cartpole(cart_position, pole_angle):\n",
        "    fig, ax = plt.subplots(figsize=(6, 3))\n",
        "    ax.set_xlim(-2.5, 2.5)\n",
        "    ax.set_ylim(-1, 1.5)\n",
        "\n",
        "    # Draw cart\n",
        "    cart_width = 0.4\n",
        "    cart_height = 0.2\n",
        "    cart = plt.Rectangle((cart_position - cart_width / 2, 0), cart_width, cart_height, fc='black')\n",
        "    ax.add_patch(cart)\n",
        "\n",
        "    # Draw pole\n",
        "    pole_length = 1.0\n",
        "    pole_x = cart_position + pole_length * np.sin(pole_angle)\n",
        "    pole_y = cart_height + pole_length * np.cos(pole_angle)\n",
        "    ax.plot([cart_position, pole_x], [cart_height, pole_y], lw=3, color='blue')\n",
        "\n",
        "    # Draw ground\n",
        "    ax.axhline(0, color='gray', lw=2)\n",
        "\n",
        "    ax.set_title(\"CartPole Simulation\")\n",
        "    ax.axis('off')\n",
        "    plt.show()\n",
        "\n",
        "def run_visual_episode(env, policy, bins, delay=0.05):\n",
        "    obs, x = env.reset()\n",
        "    total_reward = 0\n",
        "    for x in range(500):\n",
        "        clear_output(wait=True)\n",
        "        cart_pos = obs[0]\n",
        "        pole_ang = obs[2]\n",
        "        draw_cartpole(cart_pos, pole_ang)\n",
        "\n",
        "        state = discretize(obs, bins)\n",
        "        action = policy.get(state, env.action_space.sample())\n",
        "        obs, reward, terminated, truncated, x = env.step(action)\n",
        "        total_reward += reward\n",
        "        if terminated or truncated:\n",
        "            break\n",
        "        time.sleep(delay)\n",
        "    print(f\"Total reward: {total_reward}\")\n",
        "\n",
        "run_visual_episode(env, policy, bins, delay=0.1)"
      ],
      "metadata": {
        "id": "UbvPClhnhTwy",
        "colab": {
          "base_uri": "https://localhost:8080/",
          "height": 307
        },
        "outputId": "41376ea7-a51c-41a3-f7c9-672e669f2256"
      },
      "execution_count": null,
      "outputs": [
        {
          "output_type": "display_data",
          "data": {
            "text/plain": [
              "<Figure size 600x300 with 1 Axes>"
            ],
            "image/png": "[encoded data removed]"
          },
          "metadata": {}
        },
        {
          "output_type": "stream",
          "name": "stdout",
          "text": [
            "Total reward: 9.0\n"
          ]
        }
      ]
    }
  ]
}