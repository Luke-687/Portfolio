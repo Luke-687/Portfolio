{
  "nbformat": 4,
  "nbformat_minor": 0,
  "metadata": {
    "colab": {
      "provenance": [],
      "authorship_tag": "ABX9TyNgD3cFDRrs5ADlihQCwlTX",
      "include_colab_link": true
    },
    "kernelspec": {
      "name": "python3",
      "display_name": "Python 3"
    },
    "language_info": {
      "name": "python"
    }
  },
  "cells": [
    {
      "cell_type": "markdown",
      "metadata": {
        "id": "view-in-github",
        "colab_type": "text"
      },
      "source": [
        "<a href=\"https://colab.research.google.com/github/Luke-687/Portfolio/blob/main/Air_Particle_Simulation.ipynb\" target=\"_parent\"><img src=\"https://colab.research.google.com/assets/colab-badge.svg\" alt=\"Open In Colab\"/></a>"
      ]
    },
    {
      "cell_type": "code",
      "execution_count": 2,
      "metadata": {
        "id": "aVRVAGRVEaFG"
      },
      "outputs": [],
      "source": [
        "class airParticle:\n",
        "  def __init__(self, y):\n",
        "    self.y = y\n",
        "    self.x = 0"
      ]
    },
    {
      "cell_type": "code",
      "source": [
        "class simulateParticles:\n",
        "  def __init__(self, x, y):\n",
        "    self.sizeX = x\n",
        "    self.sizeY = y\n",
        "  def moveParticle(self, airPart):\n",
        "    resultsGraph = []\n",
        "    for air in airPart:\n",
        "      xPos = []\n",
        "      yPos = []\n",
        "      currentX = air.x\n",
        "      currentY = air.y\n",
        "      notOut = True\n",
        "      while(notOut):\n",
        "        xPos.append(currentX)\n",
        "        yPos.append(currentY)\n",
        "        currentX +=1\n",
        "        if(currentX>self.sizeX):\n",
        "          notOut = False\n",
        "      resultsGraph.append([xPos, yPos])\n",
        "    return resultsGraph"
      ],
      "metadata": {
        "id": "JNx8t5LNIByj"
      },
      "execution_count": 3,
      "outputs": []
    },
    {
      "cell_type": "code",
      "source": [
        "#Create the 10x10 scene\n",
        "#Create 10 air particles situated at the 10 possible y values\n",
        "testScene = simulateParticles(10,10)\n",
        "airParticles = []\n",
        "for i in range(0, testScene.sizeY):\n",
        "  airParticles.append(airParticle(i))\n",
        "\n",
        "\n",
        "#Simulate using Matplotlib\n",
        "import matplotlib.pyplot as plt\n",
        "import time\n",
        "\n",
        "plt.ion()\n",
        "fig, ax = plt.subplots()\n",
        "\n",
        "graphingData = testScene.moveParticle(airParticles)\n",
        "for i in range(0, 5):\n",
        "  time.sleep(0.1)\n",
        "  plt.clf()\n",
        "  pointsX = []\n",
        "  pointsY = []\n",
        "  for p in range(0, len(graphingData)):\n",
        "    xPoint = graphingData[p][0][i]\n",
        "    yPoint = graphingData[p][1][i]\n",
        "    pointsX.append(xPoint)\n",
        "    pointsY.append(yPoint)\n",
        "  ax.clear()\n",
        "  ax.scatter(pointsX, pointsY)\n",
        "  ax.set_xlim(min(pointsX) - 1, max(pointsX) + 1)  # keep axes steady\n",
        "  ax.set_ylim(min(pointsY) - 1, max(pointsY) + 1)\n",
        "  plt.draw()\n",
        "  plt.pause(0.1)\n",
        "plt.ioff()\n",
        "plt.show()"
      ],
      "metadata": {
        "colab": {
          "base_uri": "https://localhost:8080/",
          "height": 104
        },
        "id": "4rzdHZx7K_Uv",
        "outputId": "5a30d8e5-adb8-42ed-a665-a356ba000ebd"
      },
      "execution_count": 20,
      "outputs": [
        {
          "output_type": "display_data",
          "data": {
            "text/plain": [
              "<Figure size 640x480 with 0 Axes>"
            ]
          },
          "metadata": {}
        },
        {
          "output_type": "display_data",
          "data": {
            "text/plain": [
              "<Figure size 640x480 with 0 Axes>"
            ]
          },
          "metadata": {}
        },
        {
          "output_type": "display_data",
          "data": {
            "text/plain": [
              "<Figure size 640x480 with 0 Axes>"
            ]
          },
          "metadata": {}
        },
        {
          "output_type": "display_data",
          "data": {
            "text/plain": [
              "<Figure size 640x480 with 0 Axes>"
            ]
          },
          "metadata": {}
        },
        {
          "output_type": "display_data",
          "data": {
            "text/plain": [
              "<Figure size 640x480 with 0 Axes>"
            ]
          },
          "metadata": {}
        }
      ]
    }
  ]
}