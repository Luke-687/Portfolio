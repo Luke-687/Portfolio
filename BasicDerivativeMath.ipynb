{
  "nbformat": 4,
  "nbformat_minor": 0,
  "metadata": {
    "colab": {
      "provenance": [],
      "authorship_tag": "ABX9TyMMbf5eDGxOh/KsdtNm45UI",
      "include_colab_link": true
    },
    "kernelspec": {
      "name": "python3",
      "display_name": "Python 3"
    },
    "language_info": {
      "name": "python"
    }
  },
  "cells": [
    {
      "cell_type": "markdown",
      "metadata": {
        "id": "view-in-github",
        "colab_type": "text"
      },
      "source": [
        "<a href=\"https://colab.research.google.com/github/Luke-687/Portfolio/blob/main/BasicDerivativeMath.ipynb\" target=\"_parent\"><img src=\"https://colab.research.google.com/assets/colab-badge.svg\" alt=\"Open In Colab\"/></a>"
      ]
    },
    {
      "cell_type": "code",
      "execution_count": null,
      "metadata": {
        "id": "G00OHSCzK6kP"
      },
      "outputs": [],
      "source": [
        "#Make a model which can calcuate derivatives for function f such that y=f(x)\n",
        "#create two functions, one which provides f'(x), and another which provides f''(x)\n",
        "def f(xVal):\n",
        "  #Define the function here (xVal**2) means y = x^2 as an ex.\n",
        "  return (xVal**2)\n",
        "\n",
        "def firstDerivative(xVal):\n",
        "  diffQuot = (f(xVal+(1**-3))-f(xVal))/(1**-3)\n",
        "  return diffQuot\n",
        "def secDerivative(xVal):\n",
        "  diffQuot = (firstDerivative(xVal+1**-20)-firstDerivative(xVal))/(1**-20)\n",
        "  return diffQuot"
      ]
    },
    {
      "cell_type": "code",
      "source": [
        "print(firstDerivative(1))\n",
        "print(secDerivative(1))"
      ],
      "metadata": {
        "colab": {
          "base_uri": "https://localhost:8080/"
        },
        "id": "HTk5WEjFNwHn",
        "outputId": "1c375cb6-ab3d-471f-dc18-823a4243cdcc"
      },
      "execution_count": null,
      "outputs": [
        {
          "output_type": "stream",
          "name": "stdout",
          "text": [
            "3.0\n",
            "2.0\n"
          ]
        }
      ]
    },
    {
      "cell_type": "code",
      "source": [
        "#Make a model to simulate the power rule, so given a string such as \"3x^2\", return 6x\n",
        "def derFunc(initFunc):\n",
        "  derFunction = []\n",
        "  terms = []\n",
        "  operations = []\n",
        "  currentTerm = \"\"\n",
        "\n",
        "  # Split the input string into terms and operations\n",
        "  i = 0\n",
        "  while i < len(initFunc):\n",
        "      if initFunc[i] == '+' or initFunc[i] == '-':\n",
        "          operations.append(initFunc[i])\n",
        "          if currentTerm:\n",
        "              terms.append(currentTerm)\n",
        "          currentTerm = \"\"\n",
        "      else:\n",
        "          currentTerm += initFunc[i]\n",
        "      i += 1\n",
        "  if currentTerm:\n",
        "      terms.append(currentTerm)\n",
        "\n",
        "  # Process each term\n",
        "  for term in terms:\n",
        "    leadingVal = \"\"\n",
        "    power = \"\"\n",
        "    has_x = False\n",
        "    has_power = False\n",
        "\n",
        "    for char in term:\n",
        "      if char.isdigit() and not has_x:\n",
        "        leadingVal += char\n",
        "      elif char == 'x':\n",
        "        has_x = True\n",
        "        if not leadingVal:\n",
        "            leadingVal = \"1\" # Handle cases like \"x^2\"\n",
        "      elif char == '^':\n",
        "        has_power = True\n",
        "      elif char.isdigit() and has_power:\n",
        "        power += char\n",
        "\n",
        "    if not has_x: # Handle constant terms\n",
        "        leadingVal = \"0\"\n",
        "        power = \"0\"\n",
        "    elif has_x and not has_power: # Handle terms like \"x\" or \"3x\"\n",
        "        power = \"1\"\n",
        "\n",
        "    leadingVal = int(leadingVal)\n",
        "    power = int(power)\n",
        "\n",
        "    new_leadingVal = leadingVal * power\n",
        "    new_power = power - 1\n",
        "\n",
        "    if new_leadingVal != 0:\n",
        "        if new_power == 0:\n",
        "            derFunction.append(str(new_leadingVal))\n",
        "        elif new_power == 1:\n",
        "            derFunction.append(str(new_leadingVal) + \"x\")\n",
        "        else:\n",
        "            derFunction.append(str(new_leadingVal) + \"x^\" + str(new_power))\n",
        "\n",
        "\n",
        "  # Combine terms with operations\n",
        "  result = \"\"\n",
        "  for i in range(len(derFunction)):\n",
        "      if i > 0:\n",
        "          result += operations[i-1]\n",
        "      result += derFunction[i]\n",
        "\n",
        "  return result"
      ],
      "metadata": {
        "id": "FYV9IdAYO8y2"
      },
      "execution_count": 48,
      "outputs": []
    },
    {
      "cell_type": "code",
      "source": [
        "derivativeFunction = derFunc(\"x^2+x^3\")\n",
        "print(derivativeFunction)"
      ],
      "metadata": {
        "id": "WQW42FFtT2XG",
        "colab": {
          "base_uri": "https://localhost:8080/"
        },
        "outputId": "d2340b90-a749-4936-baa1-130c3858b187"
      },
      "execution_count": 51,
      "outputs": [
        {
          "output_type": "stream",
          "name": "stdout",
          "text": [
            "2x+3x^2\n"
          ]
        }
      ]
    }
  ]
}