{
  "nbformat": 4,
  "nbformat_minor": 0,
  "metadata": {
    "colab": {
      "provenance": [],
      "authorship_tag": "ABX9TyOmwfsvDWVdVoZQuvzTfiLB",
      "include_colab_link": true
    },
    "kernelspec": {
      "name": "python3",
      "display_name": "Python 3"
    },
    "language_info": {
      "name": "python"
    }
  },
  "cells": [
    {
      "cell_type": "markdown",
      "metadata": {
        "id": "view-in-github",
        "colab_type": "text"
      },
      "source": [
        "<a href=\"https://colab.research.google.com/github/Luke-687/Portfolio/blob/main/BasicModelingInspirdByRtextbook.ipynb\" target=\"_parent\"><img src=\"https://colab.research.google.com/assets/colab-badge.svg\" alt=\"Open In Colab\"/></a>"
      ]
    },
    {
      "cell_type": "code",
      "execution_count": 6,
      "metadata": {
        "colab": {
          "base_uri": "https://localhost:8080/"
        },
        "id": "m7drUWg-AC3-",
        "outputId": "697072a4-b1c8-4d2f-aba2-4c8e8b8b303c"
      },
      "outputs": [
        {
          "output_type": "stream",
          "name": "stdout",
          "text": [
            "Slope: 4.899999999999998\n",
            "Y-Intercept: 4.899999999999998\n"
          ]
        }
      ],
      "source": [
        "#Essentially given lets say 5 points calculate the line of best fit\n",
        "#Consider slopes to range from -5 to 5 and intercepts to range from the same, make the step between tested values 0.1\n",
        "\n",
        "points = [[0,0], [1,1], [2,2], [3,3], [4,4]]\n",
        "line = []\n",
        "\n",
        "def compare(points, pointsPredicted):\n",
        "  dist1 = points[0][1] - pointsPredicted[0][1]\n",
        "  dist2 = points[1][1] - pointsPredicted[1][1]\n",
        "  dist3 = points[2][1] - pointsPredicted[2][1]\n",
        "  dist4 = points[3][1] - pointsPredicted[3][1]\n",
        "  dist5 = points[4][1] - pointsPredicted[4][1]\n",
        "  return (dist1+dist2+dist3+dist4+dist5)/5\n",
        "\n",
        "minDist = 1000\n",
        "currentSlope = -5\n",
        "currentIntercept = -5\n",
        "for slope in range (0,100):\n",
        "  for intercept in range (0,100):\n",
        "    pointsPredicted = [[points[0][0], (points[0][0]*currentSlope+currentIntercept)], [points[1][0], (points[1][0]*currentSlope+currentIntercept)], [points[2][0], (points[2][0]*currentSlope+currentIntercept)], [points[3][0], (points[3][0]*currentSlope+currentIntercept)], [points[4][0], (points[4][0]*currentSlope+currentIntercept)]]\n",
        "    test = compare(points, pointsPredicted)\n",
        "    if(test<=minDist):\n",
        "      minDist = test\n",
        "      line = [currentSlope, currentIntercept]\n",
        "    currentIntercept += 0.1\n",
        "  currentIntercept = -5\n",
        "  currentSlope+=0.1\n",
        "\n",
        "print(\"Slope: \" + str(line[0]) + \"\\nY-Intercept: \"+ str(line[1]))"
      ]
    }
  ]
}