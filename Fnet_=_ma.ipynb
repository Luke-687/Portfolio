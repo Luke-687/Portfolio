{
  "nbformat": 4,
  "nbformat_minor": 0,
  "metadata": {
    "colab": {
      "provenance": [],
      "authorship_tag": "ABX9TyPo97NRIiu0XIjmpByYxjLj",
      "include_colab_link": true
    },
    "kernelspec": {
      "name": "python3",
      "display_name": "Python 3"
    },
    "language_info": {
      "name": "python"
    }
  },
  "cells": [
    {
      "cell_type": "markdown",
      "metadata": {
        "id": "view-in-github",
        "colab_type": "text"
      },
      "source": [
        "<a href=\"https://colab.research.google.com/github/Luke-687/Portfolio/blob/main/Fnet_%3D_ma.ipynb\" target=\"_parent\"><img src=\"https://colab.research.google.com/assets/colab-badge.svg\" alt=\"Open In Colab\"/></a>"
      ]
    },
    {
      "cell_type": "code",
      "execution_count": null,
      "metadata": {
        "id": "t4eAc5xf3aYo"
      },
      "outputs": [],
      "source": [
        "import pandas as pd\n",
        "import numpy as np\n",
        "from keras.models import Sequential\n",
        "from keras.layers import Dense\n",
        "\n",
        "#set up model\n",
        "model = Sequential()\n",
        "model.add(Dense(units = 64, activation = 'relu'))\n",
        "model.add(Dense(units = 32, activation = 'relu'))\n",
        "model.add(Dense(units = 16, activation = 'relu'))\n",
        "model.add(Dense(units = 1))\n",
        "\n",
        "#set up training data\n",
        "df = pd.read_csv(\"data.csv\")\n",
        "X= df.drop(columns = [\"Force (N)\"])\n",
        "Y= df[\"Force (N)\"]\n",
        "\n",
        "#train\n",
        "model.compile(optimizer = 'rmsprop', loss = 'mse')\n",
        "model.fit(X,Y, batch_size = 1, epochs = 100)\n",
        "\n",
        "#predict\n",
        "predict = model.predict(np.array([[12,12]])) #some_X_val\n",
        "print(predict[0])"
      ]
    }
  ]
}