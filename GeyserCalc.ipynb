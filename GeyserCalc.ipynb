{
  "nbformat": 4,
  "nbformat_minor": 0,
  "metadata": {
    "colab": {
      "provenance": [],
      "authorship_tag": "ABX9TyN2YF4VIc98EiwGHNPGHXOE",
      "include_colab_link": true
    },
    "kernelspec": {
      "name": "python3",
      "display_name": "Python 3"
    },
    "language_info": {
      "name": "python"
    }
  },
  "cells": [
    {
      "cell_type": "markdown",
      "metadata": {
        "id": "view-in-github",
        "colab_type": "text"
      },
      "source": [
        "<a href=\"https://colab.research.google.com/github/Luke-687/Portfolio/blob/main/GeyserCalc.ipynb\" target=\"_parent\"><img src=\"https://colab.research.google.com/assets/colab-badge.svg\" alt=\"Open In Colab\"/></a>"
      ]
    },
    {
      "cell_type": "code",
      "execution_count": null,
      "metadata": {
        "id": "9mvgL1v43qmB"
      },
      "outputs": [],
      "source": [
        "from datetime import date\n",
        "\n",
        "Geysers = {}\n",
        "\n",
        "def probCalc(nameGeyser, time, deviation, currentTime, timeSpentMins):\n",
        "  start = time - deviation\n",
        "  end = time + deviation\n",
        "  if((currentTime)>=start):\n",
        "    start = currentTime\n",
        "  timeFrame = end-start\n",
        "  if(timeSpentMins+start>=end):\n",
        "    timeSpentMins = end-start\n",
        "  prob = (timeSpentMins / timeFrame)*100\n",
        "\n",
        "  return \"You have a \" + str(int(prob)) + \"%\""
      ]
    },
    {
      "cell_type": "code",
      "source": [
        "namegeyser = input(\"What is the name of the geyser: \")\n",
        "timepredicted = input(\"What is projected time: \")\n",
        "deviation = input(\"What is deviation: \")\n",
        "currenttime = input(\"What is time arrval (hh:mm): \")\n",
        "fixTime = input(\"Is time of arrival AM or PM: \")\n",
        "timeSpent = input(\"What is your planned time to stay at geyser: \")\n",
        "\n",
        "currenttime = list(currenttime)\n",
        "multiplier = 60\n",
        "time = 0\n",
        "for i in range (0, len(currenttime)-2):\n",
        "  if(not currenttime[i] == \":\"):\n",
        "    time+=int(currenttime[i])*multiplier\n",
        "  if(currenttime[i] == \":\"):\n",
        "    time+=10*int(currenttime[i+1]) + int(currenttime[i+2])\n",
        "if(fixTime == \"PM\"):\n",
        "  time += 12*60\n",
        "\n",
        "timespent = int(timeSpent)\n",
        "deviation = int(deviation)\n",
        "timepredicted = int(timepredicted)\n",
        "\n",
        "print(probCalc(namegeyser, timepredicted, deviation, time, timespent))"
      ],
      "metadata": {
        "colab": {
          "base_uri": "https://localhost:8080/"
        },
        "id": "nGXBa8Km6FiY",
        "outputId": "b92db775-ea7e-4612-d77a-131763edd406"
      },
      "execution_count": null,
      "outputs": [
        {
          "output_type": "stream",
          "name": "stdout",
          "text": [
            "What is the name of the geyser: Old Faithful\n",
            "What is projected time: 811\n",
            "What is deviation: 7\n",
            "What is time arrval (hh:mm): 8:00\n",
            "Is time of arrival AM or PM: AM\n",
            "What is your planned time to stay at geyser: 90\n",
            "You have a 100%\n"
          ]
        }
      ]
    }
  ]
}