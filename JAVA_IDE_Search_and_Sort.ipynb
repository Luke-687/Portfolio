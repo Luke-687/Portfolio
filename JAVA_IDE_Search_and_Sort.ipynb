{
  "nbformat": 4,
  "nbformat_minor": 0,
  "metadata": {
    "colab": {
      "provenance": [],
      "authorship_tag": "ABX9TyP6C5r82P6QHSDBBmCA5iZ5",
      "include_colab_link": true
    },
    "kernelspec": {
      "name": "python3",
      "display_name": "Python 3"
    },
    "language_info": {
      "name": "python"
    }
  },
  "cells": [
    {
      "cell_type": "markdown",
      "metadata": {
        "id": "view-in-github",
        "colab_type": "text"
      },
      "source": [
        "<a href=\"https://colab.research.google.com/github/Luke-687/Portfolio/blob/main/JAVA_IDE_Search_and_Sort.ipynb\" target=\"_parent\"><img src=\"https://colab.research.google.com/assets/colab-badge.svg\" alt=\"Open In Colab\"/></a>"
      ]
    },
    {
      "cell_type": "code",
      "execution_count": null,
      "metadata": {
        "id": "7dfplbXdPrxI",
        "outputId": "26fd0ccb-ef32-4d9f-9662-bcfc7c9c033e",
        "colab": {
          "base_uri": "https://localhost:8080/",
          "height": 106
        }
      },
      "outputs": [
        {
          "output_type": "error",
          "ename": "SyntaxError",
          "evalue": "invalid syntax (<ipython-input-1-c963829e1799>, line 1)",
          "traceback": [
            "\u001b[0;36m  File \u001b[0;32m\"<ipython-input-1-c963829e1799>\"\u001b[0;36m, line \u001b[0;32m1\u001b[0m\n\u001b[0;31m    // Online Java Compiler\u001b[0m\n\u001b[0m    ^\u001b[0m\n\u001b[0;31mSyntaxError\u001b[0m\u001b[0;31m:\u001b[0m invalid syntax\n"
          ]
        }
      ],
      "source": [
        "// Online Java Compiler\n",
        "// Use this editor to write, compile and run your Java code online\n",
        "\n",
        "class Main {\n",
        "    public static void main(String[] args) {\n",
        "        int[] arr = {1,2,4,3};\n",
        "        int[] sorted = new int[arr.length];\n",
        "        int indexMin = 0;\n",
        "        int min = arr[0];\n",
        "        int max = arr[0];\n",
        "        for(int i = 0; i<arr.length; i++){\n",
        "            if(arr[i]>=max)\n",
        "                max = arr[i]+1;\n",
        "        }\n",
        "        for(int i = 0; i<sorted.length; i++){\n",
        "            indexMin = 0;\n",
        "            min = arr[0];\n",
        "            for(int j = 0; j<arr.length; j++){\n",
        "                if(!(arr[j]>=max) && arr[j]<min){\n",
        "                    min = arr[j];\n",
        "                    indexMin = j;\n",
        "                }\n",
        "            }\n",
        "            sorted[i] = min;\n",
        "            arr[indexMin] = max;\n",
        "        }\n",
        "\n",
        "        for(int i = 0; i<sorted.length; i++){\n",
        "            System.out.println(sorted[i] + \" \");\n",
        "        }\n",
        "    }\n",
        "}"
      ]
    },
    {
      "cell_type": "code",
      "source": [
        "#sorting method which is based around taking an unsorted array, and testing all possible combinagions until its in order! (awful way to do it but good practice):\n",
        "\n",
        "int[] array = {2,5,6,1};\n",
        "int[] test = new int[array.length];\n",
        "boolean sorted  = true;\n",
        "while(sorted){\n",
        "  for(int i1 = 0; i<array.length; i1++){\n",
        "      test = {array[i1], 0, 0, 0};\n",
        "      for(int i2 = 0; i2<array.length; i2++){\n",
        "          if(array[i2] != test[0]){\n",
        "              test[1] = array[i2];\n",
        "              for(int i3 = 0; i3<array.length; i3++){\n",
        "                  if(array[i3] != test[0] && array[i3] != test[1]){\n",
        "                      test[2] = array[i3];\n",
        "                      for(int i4 = 0; i4<array.length; i4++){\n",
        "                          if(array[i4] != test[0] && array[i4] != test[1] && array[i4] != test[2]){\n",
        "                              test[3] = array[i4];\n",
        "                              for(int i = 0; i<test.length-1; i++){\n",
        "                                  if(!(test[i]<=test[i+1])){\n",
        "                                    sorted = false;\n",
        "                                  }\n",
        "                              }\n",
        "                          }\n",
        "                      }\n",
        "                  }\n",
        "              }\n",
        "          }\n",
        "      }\n",
        "      if(sorted == false)\n",
        "        sorted = true;\n",
        "      else\n",
        "        sorted = false;\n",
        "  }\n",
        "}\n",
        "for(int i = 0; i<test.length; i++){\n",
        "    System.out.print(test[i] + \" \");\n",
        "}"
      ],
      "metadata": {
        "id": "K1am4YfpxwZa"
      },
      "execution_count": null,
      "outputs": []
    },
    {
      "cell_type": "code",
      "source": [
        "#binary search\n",
        "public int find(int target){\n",
        "  int[] array = new int[];\n",
        "  array = {1,2,3,4};\n",
        "  boolean found = false;\n",
        "  int index = 0;\n",
        "  int right = array.length-1;\n",
        "  int left = 0;\n",
        "  int middle = (right+left)/2;\n",
        "  while(!found){\n",
        "    middle = (right+left)/2;\n",
        "    if(array[middle] == target)\n",
        "      return middle;\n",
        "      found = true;\n",
        "    else if(array[middle]>target)\n",
        "      left = middle-1;\n",
        "    else\n",
        "        right = middle+1;\n",
        "    if(middle == 0 || middle == array.length-1)\n",
        "      return -1;\n",
        "\n",
        "  }\n",
        "  return -1;\n",
        "}"
      ],
      "metadata": {
        "id": "_503Z4lD3wwu"
      },
      "execution_count": null,
      "outputs": []
    },
    {
      "cell_type": "code",
      "source": [
        "#selection sort and insertion sort\n",
        "\n",
        "#selection:\n",
        "int[] arr = {2,5,3,1};\n",
        "int min = arr[0];\n",
        "int mindex = 0;\n",
        "int temp = 0;\n",
        "for(int i = 0; i<arr.length; i++){\n",
        "    min = arr[i];\n",
        "    for(int j = i+1; j<arr.length; j++){\n",
        "        if(arr[j]<min){\n",
        "            min = arr[j];\n",
        "            mindex = j;\n",
        "        }\n",
        "    }\n",
        "    temp = arr[i];\n",
        "    arr[i] = arr[mindex];\n",
        "    arr[mindex] = temp;\n",
        "}\n",
        "\n",
        "#insertion sort"
      ],
      "metadata": {
        "id": "TrMgVBknPc0P"
      },
      "execution_count": null,
      "outputs": []
    }
  ]
}