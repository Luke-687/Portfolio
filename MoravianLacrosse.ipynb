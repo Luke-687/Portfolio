{
  "nbformat": 4,
  "nbformat_minor": 0,
  "metadata": {
    "colab": {
      "provenance": [],
      "mount_file_id": "1WfPJVTrue2sJFvcpSOPjuj-iXMuAoUSD",
      "authorship_tag": "ABX9TyPCZflPKen4iOVvKHX/FIPZ",
      "include_colab_link": true
    },
    "kernelspec": {
      "name": "python3",
      "display_name": "Python 3"
    },
    "language_info": {
      "name": "python"
    }
  },
  "cells": [
    {
      "cell_type": "markdown",
      "metadata": {
        "id": "view-in-github",
        "colab_type": "text"
      },
      "source": [
        "<a href=\"https://colab.research.google.com/github/Luke-687/Portfolio/blob/main/MoravianLacrosse.ipynb\" target=\"_parent\"><img src=\"https://colab.research.google.com/assets/colab-badge.svg\" alt=\"Open In Colab\"/></a>"
      ]
    },
    {
      "cell_type": "code",
      "execution_count": null,
      "metadata": {
        "id": "VfFXTCWrXUsl",
        "colab": {
          "base_uri": "https://localhost:8080/",
          "height": 489
        },
        "outputId": "950d154f-96e2-4249-9d75-5e33e1aa0471"
      },
      "outputs": [
        {
          "name": "stdout",
          "output_type": "stream",
          "text": [
            "What player would you like to analyze? Alex Cherenson\n"
          ]
        },
        {
          "output_type": "display_data",
          "data": {
            "text/plain": [
              "<Figure size 640x480 with 1 Axes>"
            ],
            "image/png": "[encoded data removed]"
          },
          "metadata": {}
        }
      ],
      "source": [
        "import pandas as pd\n",
        "import matplotlib.pyplot as plt\n",
        "\n",
        "dfseason = pd.DataFrame()\n",
        "\n",
        "dfg1 = pd.read_csv(\"Mulhenberg.csv\")\n",
        "dfg1 = dfg1.drop(columns = \"#\")\n",
        "\n",
        "dfg2 = pd.read_csv(\"Widener.csv\")\n",
        "dfg2 = dfg2.drop(columns = \"#\")\n",
        "\n",
        "dfg3 = pd.read_csv(\"Whittier.csv\")\n",
        "dfg3 = dfg3.drop(columns = \"#\")\n",
        "\n",
        "dfg4 = pd.read_csv(\"RedlandsGame.csv\")\n",
        "dfg4 = dfg4.drop(columns = [\"#\"])\n",
        "\n",
        "dfg5 = pd.read_csv(\"RedlandsGame.csv\")\n",
        "dfg5 = dfg5.drop(columns = [\"#\"])\n",
        "\n",
        "dfseason[\"Name\"] =  [ \"Elle Burd\", \"Alex Cherenson\",\"Madi Dippel\", \"Melissa Elefonte\",  \"Mia Faisetty\", \"Cailin Filep\", \"Kayla Graef\",\"Leah Hoskin\",\"Kathryn Hunsinger\", \"Bailey Leatherman\",\"Gianna Lotito\",\"Izzy Lotito\", \"Maia Machado\",\"Lillian Martino\", \"Alanna McBrearty\", \"Maggie Modrovsky\", \"Grace Nelson\", \"Erda Nesimi\", \"Keara Reilly\",\"Reagan Reiner\", \"Victoria Salica\", \"Jackie Salvatore\", \"Elizabeth Shoulberg\", \"Ella Steirer\", \"Amelia Walsh\",\"Isabella Ziccardi\"]\n",
        "\n",
        "g1s = []\n",
        "g2s = []\n",
        "g3s = []\n",
        "g4s = []\n",
        "g5s = []\n",
        "\n",
        "for index1, row in dfg1.iterrows():\n",
        "  score = row[\"G\"] * 5 + row[\"A\"] *3 + row[\"DC\"] * 2 + row[\"GB\"]*1 + row[\"CT\"] *1.5 - row[\"T/O\"] * 2\n",
        "  into = [row[\"PLAYER\"], score]\n",
        "  g1s.append(into)\n",
        "\n",
        "for index1, row in dfg2.iterrows():\n",
        "  score = row[\"G\"] * 5 + row[\"A\"] *3 + row[\"DC\"] * 2 + row[\"GB\"]*1 + row[\"CT\"] *1.5 - row[\"T/O\"] * 2\n",
        "  into = [row[\"PLAYER\"], score]\n",
        "  g2s.append(into)\n",
        "\n",
        "for index1, row in dfg3.iterrows():\n",
        "  score = row[\"G\"] * 5 + row[\"A\"] *3 + row[\"DC\"] * 2 + row[\"GB\"]*1 + row[\"CT\"] *1.5 - row[\"T/O\"] * 2\n",
        "  into = [row[\"PLAYER\"], score]\n",
        "  g3s.append(into)\n",
        "\n",
        "for index1, row in dfg4.iterrows():\n",
        "  score = row[\"G\"] * 5 + row[\"A\"] *3 + row[\"DC\"] * 2 + row[\"GB\"]*1 + row[\"CT\"] *1.5 - row[\"T/O\"] * 2\n",
        "  into = [row[\"PLAYER\"], score]\n",
        "  g4s.append(into)\n",
        "\n",
        "for index1, row in dfg5.iterrows():\n",
        "  score = row[\"G\"] * 5 + row[\"A\"] *3 + row[\"DC\"] * 2 + row[\"GB\"]*1 + row[\"CT\"] *1.5 - row[\"T/O\"] * 2\n",
        "  into = [row[\"PLAYER\"], score]\n",
        "  g5s.append(into)\n",
        "\n",
        "g1final = []\n",
        "for index, row in dfseason.iterrows():\n",
        "  index = 1\n",
        "  for player in g1s:\n",
        "    if str(row[\"Name\"]) == str(player[0]):\n",
        "      g1final.append(player[1])\n",
        "      index = 0\n",
        "    elif index != 0:\n",
        "      index = 1\n",
        "  if index == 1:\n",
        "    g1final.append(0)\n",
        "dfseason[\"G1\"] = g1final\n",
        "\n",
        "g2final = []\n",
        "for index, row in dfseason.iterrows():\n",
        "  index = 1\n",
        "  for player in g2s:\n",
        "    if str(row[\"Name\"]) == str(player[0]):\n",
        "      g2final.append(player[1])\n",
        "      index = 0\n",
        "    elif index != 0:\n",
        "      index = 1\n",
        "  if index == 1:\n",
        "    g2final.append(0)\n",
        "dfseason[\"G2\"] = g2final\n",
        "\n",
        "g3final = []\n",
        "for index, row in dfseason.iterrows():\n",
        "  index = 1\n",
        "  for player in g3s:\n",
        "    if str(row[\"Name\"]) == str(player[0]) or str(row[\"Name\"] + \" *\") == str(player[0]):\n",
        "      g3final.append(player[1])\n",
        "      index = 0\n",
        "    elif index != 0:\n",
        "      index = 1\n",
        "  if index == 1:\n",
        "    g3final.append(0)\n",
        "dfseason[\"G3\"] = g3final\n",
        "\n",
        "g4final = []\n",
        "for index, row in dfseason.iterrows():\n",
        "  index = 1\n",
        "  for player in g4s:\n",
        "    if str(row[\"Name\"]) == str(player[0]) or str(row[\"Name\"] + \" *\") == str(player[0]):\n",
        "      g4final.append(player[1])\n",
        "      index = 0\n",
        "    elif index != 0:\n",
        "      index = 1\n",
        "  if index == 1:\n",
        "    g4final.append(0)\n",
        "dfseason[\"G4\"] = g4final\n",
        "\n",
        "x = [1,2,3,4,5]\n",
        "y = []\n",
        "\n",
        "graphplayer = input(\"What player would you like to analyze? \")\n",
        "for index, row in dfseason.iterrows():\n",
        "    if row[\"Name\"] == graphplayer:\n",
        "      y = [row[\"G1\"], row[\"G2\"], row[\"G3\"], row[\"G4\"], row[\"G5\"]]\n",
        "\n",
        "plt.plot(x, y)\n",
        "plt.title(\"Game Evaluation\")\n",
        "plt.xlabel(\"Game\")\n",
        "plt.ylabel(\"Performance Score\")\n",
        "plt.show()"
      ]
    }
  ]
}