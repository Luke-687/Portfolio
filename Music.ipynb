{
  "nbformat": 4,
  "nbformat_minor": 0,
  "metadata": {
    "colab": {
      "provenance": [],
      "authorship_tag": "ABX9TyMiKt2oOzIYV/FqE1xXqXym",
      "include_colab_link": true
    },
    "kernelspec": {
      "name": "python3",
      "display_name": "Python 3"
    },
    "language_info": {
      "name": "python"
    }
  },
  "cells": [
    {
      "cell_type": "markdown",
      "metadata": {
        "id": "view-in-github",
        "colab_type": "text"
      },
      "source": [
        "<a href=\"https://colab.research.google.com/github/Luke-687/Portfolio/blob/main/Music.ipynb\" target=\"_parent\"><img src=\"https://colab.research.google.com/assets/colab-badge.svg\" alt=\"Open In Colab\"/></a>"
      ]
    },
    {
      "cell_type": "code",
      "execution_count": null,
      "metadata": {
        "id": "UK7sINtF15Mz",
        "colab": {
          "base_uri": "https://localhost:8080/"
        },
        "outputId": "f9c81931-d155-4fb2-f716-05860a18b30e"
      },
      "outputs": [
        {
          "output_type": "stream",
          "name": "stdout",
          "text": [
            "Enter Age (>10), Minutes Streamed Per Day, and Number of Songs Liked: 78 78 900\n",
            "Genre of music best liked: Jazz\n",
            "Artist best liked: BTS\n",
            "We recommend: \n",
            "BTS\n"
          ]
        }
      ],
      "source": [
        "import pandas as pd\n",
        "from sklearn.tree import DecisionTreeClassifier\n",
        "from sklearn.tree import DecisionTreeRegressor\n",
        "\n",
        "dfmusic = pd.read_csv(\"music.csv\")\n",
        "dfmusic = dfmusic.drop(columns = [ \"User_ID\", \"Country\"])\n",
        "\n",
        "#define genre predictor\n",
        "\n",
        "modelgenre = DecisionTreeClassifier()\n",
        "\n",
        "#input type\n",
        "statsg = dfmusic.drop(columns = [\"Top Genre\", \"Most Played Artist\"])\n",
        "\n",
        "#output type\n",
        "genre = dfmusic[\"Top Genre\"]\n",
        "\n",
        "\n",
        "modelgenre.fit(statsg, genre)\n",
        "user = input(\"Enter Age (>10), Minutes Streamed Per Day, and Number of Songs Liked: \")\n",
        "user = user.split()\n",
        "user = [int(val) for val in user]\n",
        "predictionsg = modelgenre.predict(pd.DataFrame([user], columns=statsg.columns))\n",
        "print(\"Genre of music best liked: \" + predictionsg[0])\n",
        "\n",
        "#define artist predictor, use genre predictor to do so\n",
        "modelartist = DecisionTreeClassifier()\n",
        "statsa = dfmusic.drop(columns = [\"Top Genre\", \"Most Played Artist\"])\n",
        "artist = dfmusic[\"Most Played Artist\"]\n",
        "modelartist.fit(statsa, artist)\n",
        "predictionsa = modelartist.predict(pd.DataFrame([user], columns=statsa.columns))\n",
        "print(\"Artist best liked: \" + predictionsa[0])\n",
        "\n",
        "#define recommendations, use predictions of artist predictor run 4 times on different models, and return results\n",
        "modelrecomend = DecisionTreeClassifier()\n",
        "modelrecomend.fit(statsa, artist)\n",
        "\n",
        "artists = []\n",
        "age = user[0] - 5\n",
        "minutes = user[1] - 5\n",
        "numsongs = user[2] -5\n",
        "while age <= user[0] +5:\n",
        "  minutes = user[1] -5\n",
        "  while minutes < user[1] +5:\n",
        "    numsongs = user[2] -5\n",
        "    while numsongs < user[2] + 5:\n",
        "      predictionsr = modelrecomend.predict(pd.DataFrame([[age,minutes,numsongs]], columns=statsa.columns))\n",
        "      artists.append(predictionsr[0])\n",
        "      numsongs+=1\n",
        "    minutes+=1\n",
        "  age+=1\n",
        "\n",
        "print(\"We recommend: \")\n",
        "index = 0\n",
        "printlist = []\n",
        "while index < len(artists):\n",
        "  if not(artists[index] in printlist):\n",
        "    printlist.append(artists[index])\n",
        "  index+=1\n",
        "index = 0\n",
        "while index < len(printlist):\n",
        "  print(printlist[index])\n",
        "  index+=1\n"
      ]
    }
  ]
}