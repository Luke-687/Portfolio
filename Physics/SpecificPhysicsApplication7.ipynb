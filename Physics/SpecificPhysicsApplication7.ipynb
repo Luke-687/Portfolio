{
  "nbformat": 4,
  "nbformat_minor": 0,
  "metadata": {
    "colab": {
      "provenance": [],
      "authorship_tag": "ABX9TyPSLwOhguZdA8wovORkHlnj",
      "include_colab_link": true
    },
    "kernelspec": {
      "name": "python3",
      "display_name": "Python 3"
    },
    "language_info": {
      "name": "python"
    }
  },
  "cells": [
    {
      "cell_type": "markdown",
      "metadata": {
        "id": "view-in-github",
        "colab_type": "text"
      },
      "source": [
        "<a href=\"https://colab.research.google.com/github/Luke-687/Portfolio/blob/main/SpecificPhysicsApplication7.ipynb\" target=\"_parent\"><img src=\"https://colab.research.google.com/assets/colab-badge.svg\" alt=\"Open In Colab\"/></a>"
      ]
    },
    {
      "cell_type": "code",
      "execution_count": 6,
      "metadata": {
        "colab": {
          "base_uri": "https://localhost:8080/"
        },
        "id": "3Stre9lvgdxw",
        "outputId": "855ffaa0-806c-4766-a19e-7e692a14b7b9"
      },
      "outputs": [
        {
          "output_type": "stream",
          "name": "stdout",
          "text": [
            "The penny would hit at 13.8889 m/s\n",
            "\n",
            "The force on the human head would be 60.281732253125 N\n"
          ]
        }
      ],
      "source": [
        "#Idea:\n",
        "#Penny from the empire state building\n",
        "import math\n",
        "\n",
        "heightEmpireState = 443\n",
        "massPenny = 2.5/1000\n",
        "terminalVelPenny = 13.8889\n",
        "\n",
        "initEnergy = massPenny * 9.8 * heightEmpireState\n",
        "finalVelocity = math.sqrt(2*initEnergy/massPenny)\n",
        "if(finalVelocity>terminalVelPenny):\n",
        "  finalVelocity = terminalVelPenny\n",
        "\n",
        "print(\"The penny would hit at \" + str(finalVelocity) + \" m/s\")\n",
        "\n",
        "#Now think of problem where it hits someone in the head, assume 4mm of compression into the skull\n",
        "compression = 0.004\n",
        "Force = (0.5)*(massPenny)*(finalVelocity**2)/compression\n",
        "print(\"\\nThe force on the human head would be \" + str(Force) + \" N\")"
      ]
    }
  ]
}
