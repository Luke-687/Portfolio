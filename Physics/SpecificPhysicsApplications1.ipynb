{
  "nbformat": 4,
  "nbformat_minor": 0,
  "metadata": {
    "colab": {
      "provenance": [],
      "authorship_tag": "ABX9TyM/Jw7ksbkf+1JpDPoON0Pk",
      "include_colab_link": true
    },
    "kernelspec": {
      "name": "python3",
      "display_name": "Python 3"
    },
    "language_info": {
      "name": "python"
    }
  },
  "cells": [
    {
      "cell_type": "markdown",
      "metadata": {
        "id": "view-in-github",
        "colab_type": "text"
      },
      "source": [
        "<a href=\"https://colab.research.google.com/github/Luke-687/Portfolio/blob/main/SpecificPhysicsApplications1.ipynb\" target=\"_parent\"><img src=\"https://colab.research.google.com/assets/colab-badge.svg\" alt=\"Open In Colab\"/></a>"
      ]
    },
    {
      "cell_type": "code",
      "execution_count": 15,
      "metadata": {
        "id": "lPjwHAQhkWdz"
      },
      "outputs": [],
      "source": [
        "#Specific physics situation calculator (Consider launching a ball of a cliff)\n",
        "#The ball being launched off the cliff is launched slightly up at a given velocity v\n",
        "#Calculate the height of a tower given total time and initial velocity (either account for angle or give velocity in y direction)\n",
        "\n",
        "import math\n",
        "\n",
        "tTotal = 10\n",
        "vInitial = 10\n",
        "thetaDegrees = 45\n",
        "\n",
        "def findH(tTotal, vInitial, thetaDegrees):\n",
        "  tH = tTotal - (vInitial*math.sin((thetaDegrees*math.pi/180)))/5\n",
        "  tH = int(tH)\n",
        "  height = ((vInitial*math.sin((thetaDegrees*math.pi/180)))*tH) + (1/2)*(10)*(tH*tH)\n",
        "  return height"
      ]
    },
    {
      "cell_type": "code",
      "source": [
        "print(findH(10, 5, 0))"
      ],
      "metadata": {
        "colab": {
          "base_uri": "https://localhost:8080/"
        },
        "id": "K67g4bpBmLoo",
        "outputId": "c76b81fb-623e-4ace-d204-2e8f41cf3172"
      },
      "execution_count": 17,
      "outputs": [
        {
          "output_type": "stream",
          "name": "stdout",
          "text": [
            "500.0\n"
          ]
        }
      ]
    }
  ]
}
