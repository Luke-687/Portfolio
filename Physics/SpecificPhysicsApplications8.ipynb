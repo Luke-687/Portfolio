{
  "nbformat": 4,
  "nbformat_minor": 0,
  "metadata": {
    "colab": {
      "provenance": [],
      "authorship_tag": "ABX9TyO+77S0RVLR5KHHyaqwxETU",
      "include_colab_link": true
    },
    "kernelspec": {
      "name": "python3",
      "display_name": "Python 3"
    },
    "language_info": {
      "name": "python"
    }
  },
  "cells": [
    {
      "cell_type": "markdown",
      "metadata": {
        "id": "view-in-github",
        "colab_type": "text"
      },
      "source": [
        "<a href=\"https://colab.research.google.com/github/Luke-687/Portfolio/blob/main/SpecificPhysicsApplications8.ipynb\" target=\"_parent\"><img src=\"https://colab.research.google.com/assets/colab-badge.svg\" alt=\"Open In Colab\"/></a>"
      ]
    },
    {
      "cell_type": "code",
      "execution_count": 38,
      "metadata": {
        "colab": {
          "base_uri": "https://localhost:8080/",
          "height": 487
        },
        "id": "5jz_k424YdqE",
        "outputId": "a6baf44c-c9eb-4c22-f8ae-545a1c1ac1b1"
      },
      "outputs": [
        {
          "name": "stdout",
          "output_type": "stream",
          "text": [
            "What is the initial veclocity? 22.14\n",
            "What is the angle? 45\n"
          ]
        },
        {
          "output_type": "execute_result",
          "data": {
            "text/plain": [
              "<matplotlib.collections.PathCollection at 0x7df7a7d9b490>"
            ]
          },
          "metadata": {},
          "execution_count": 38
        },
        {
          "output_type": "display_data",
          "data": {
            "text/plain": [
              "<Figure size 640x480 with 1 Axes>"
            ],
            "image/png": "[encoded data removed]"
          },
          "metadata": {}
        }
      ],
      "source": [
        "#Game where you input velocity, angle, and you try to hit the target (make the target relatively large)\n",
        "import math\n",
        "import matplotlib.pyplot as plt\n",
        "import time\n",
        "import random\n",
        "\n",
        "#Initial values\n",
        "initVel = float(input(\"What is the initial veclocity? \"))\n",
        "angle = float(input(\"What is the angle? \"))\n",
        "angle = angle*math.pi/180\n",
        "initVelX = initVel*math.cos(angle)\n",
        "initVelY = initVel*math.sin(angle)\n",
        "\n",
        "#Define target position\n",
        "targetY = 0\n",
        "targetX = 50\n",
        "\n",
        "posBallX = []\n",
        "posBallY = []\n",
        "\n",
        "time = (initVel*math.sin(angle))/5\n",
        "\n",
        "currentTime = 0\n",
        "currentXPos = 0\n",
        "currentYPos = 0\n",
        "notLanded = True\n",
        "while (notLanded):\n",
        "  currentXPos = initVelX*currentTime\n",
        "  currentYPos = initVelY*currentTime+0.5*-10*(currentTime**2)\n",
        "  if(currentYPos>=0):\n",
        "    posBallX.append(currentXPos)\n",
        "    posBallY.append(currentYPos)\n",
        "    currentTime+=0.01\n",
        "  else:\n",
        "    notLanded = False\n",
        "\n",
        "#Now plot everything:\n",
        "plt.xlim(-0.5, 100)\n",
        "\n",
        "plt.ylim(-0.5, 50)\n",
        "plt.scatter(targetX, targetY, color = \"yellow\", edgecolors=\"black\")\n",
        "if((targetX+1)>=posBallX[-1] and (targetX-1)<=posBallX[-1]):\n",
        "  colorP=\"green\"\n",
        "else:\n",
        "  colorP = \"red\"\n",
        "plt.scatter(posBallX, posBallY, color=colorP)"
      ]
    }
  ]
}
