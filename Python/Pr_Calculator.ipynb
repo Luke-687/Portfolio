{
  "nbformat": 4,
  "nbformat_minor": 0,
  "metadata": {
    "colab": {
      "provenance": [],
      "authorship_tag": "ABX9TyO3cX+LZTiU6CXQedIIlH7b",
      "include_colab_link": true
    },
    "kernelspec": {
      "name": "python3",
      "display_name": "Python 3"
    },
    "language_info": {
      "name": "python"
    }
  },
  "cells": [
    {
      "cell_type": "markdown",
      "metadata": {
        "id": "view-in-github",
        "colab_type": "text"
      },
      "source": [
        "<a href=\"https://colab.research.google.com/github/Luke-687/Portfolio/blob/main/Pr_Calculator.ipynb\" target=\"_parent\"><img src=\"https://colab.research.google.com/assets/colab-badge.svg\" alt=\"Open In Colab\"/></a>"
      ]
    },
    {
      "cell_type": "code",
      "execution_count": null,
      "metadata": {
        "colab": {
          "base_uri": "https://localhost:8080/"
        },
        "id": "sAIJ99jx_HEK",
        "outputId": "daabe551-7584-49a6-8a05-41f2f1e72c0e"
      },
      "outputs": [
        {
          "output_type": "stream",
          "name": "stdout",
          "text": [
            "Input your grade (number): 10\n",
            "Input freshman year time: 5\n",
            "Input sophomore year time: 5\n",
            "Prediction: 2:00.60\n"
          ]
        }
      ],
      "source": [
        "#this code will take a simple input of a track event, and time, and output the likely time following a certain amount of training (expressed in weeks)\n",
        "\n",
        "import pandas as pd\n",
        "from sklearn.tree import DecisionTreeRegressor\n",
        "df800 = pd.read_csv(\"tracktimes.csv\")\n",
        "df800 = df800[:-1500]\n",
        "freshX = df800[[\"Freshman\"]]\n",
        "sophX = df800.drop(columns = [\"Event\", \"Senior\", \"Junior\"])\n",
        "junX = df800.drop(columns = [\"Event\", \"Senior\"])\n",
        "freshY = df800[\"Sophomore\"]\n",
        "sophY = df800[\"Junior\"]\n",
        "junY = df800[\"Senior\"]\n",
        "freshmanModel = DecisionTreeRegressor()\n",
        "sophomoreModel = DecisionTreeRegressor()\n",
        "juniorModel = DecisionTreeRegressor()\n",
        "\n",
        "freshmanModel.fit(freshX, freshY)\n",
        "sophomoreModel.fit(sophX, sophY)\n",
        "juniorModel.fit(junX, junY)\n",
        "\n",
        "gradeIn = input(\"Input your grade (number): \")\n",
        "gradeIn = int(gradeIn)\n",
        "\n",
        "if(gradeIn == 9):\n",
        "  userIn = input(\"Input freshman year time: \")\n",
        "  userIn = int(userIn)\n",
        "  predictions = freshmanModel.predict([[userIn]])\n",
        "  minutes = int(predictions[0] // 60)\n",
        "  seconds = predictions[0] % 60\n",
        "  print(f\"Prediction: {minutes}:{seconds:05.2f}\")\n",
        "\n",
        "if(gradeIn == 10):\n",
        "  userIn = []\n",
        "  userIn.append(input(\"Input freshman year time: \"))\n",
        "  userIn.append(input(\"Input sophomore year time: \"))\n",
        "  userIn = [int(x) for x in userIn]\n",
        "  userInS = pd.DataFrame([userIn], columns=sophX.columns)\n",
        "  predictions = sophomoreModel.predict(userInS)\n",
        "  minutes = int(predictions[0] // 60)\n",
        "  seconds = predictions[0] % 60\n",
        "  print(f\"Prediction: {minutes}:{seconds:05.2f}\")\n",
        "\n",
        "if(gradeIn == 11):\n",
        "  userIn= []\n",
        "  userIn.append(input(\"Input freshman year time: \"))\n",
        "  userIn.append(input(\"Input sophomore year time: \"))\n",
        "  userIn.append(input(\"Input junior year time: \"))\n",
        "  userIn = [int(x) for x in userIn]\n",
        "  userInJ = pd.DataFrame([userIn], columns=junX.columns)\n",
        "  predictions = juniorModel.predict(userInJ)\n",
        "  minutes = int(predictions[0] // 60)\n",
        "  seconds = predictions[0] % 60\n",
        "  print(f\"Prediction: {minutes}:{seconds:05.2f}\")\n",
        "\n",
        "if(gradeIn == 12):\n",
        "  print(\"We can't help you, no predictions to be made\")\n"
      ]
    }
  ]
}
