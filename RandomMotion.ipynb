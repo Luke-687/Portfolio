{
  "nbformat": 4,
  "nbformat_minor": 0,
  "metadata": {
    "colab": {
      "provenance": [],
      "authorship_tag": "ABX9TyPHE4P1k1FtDLxd3GfkRmZn",
      "include_colab_link": true
    },
    "kernelspec": {
      "name": "python3",
      "display_name": "Python 3"
    },
    "language_info": {
      "name": "python"
    }
  },
  "cells": [
    {
      "cell_type": "markdown",
      "metadata": {
        "id": "view-in-github",
        "colab_type": "text"
      },
      "source": [
        "<a href=\"https://colab.research.google.com/github/Luke-687/Portfolio/blob/main/RandomMotion.ipynb\" target=\"_parent\"><img src=\"https://colab.research.google.com/assets/colab-badge.svg\" alt=\"Open In Colab\"/></a>"
      ]
    },
    {
      "cell_type": "code",
      "source": [
        "import matplotlib.pyplot as plt\n",
        "import random\n",
        "#import numpy as np"
      ],
      "metadata": {
        "id": "dsZGfCbdhSTB"
      },
      "execution_count": null,
      "outputs": []
    },
    {
      "cell_type": "code",
      "source": [
        "class Swimmer:\n",
        "  state = []\n",
        "  action = []\n",
        "  position = [[0],[0]]\n",
        "  def __init__ (self, isaction, isstate):\n",
        "    self.action = isaction\n",
        "    self.state = isstate"
      ],
      "metadata": {
        "id": "bAOlYik3F736"
      },
      "execution_count": null,
      "outputs": []
    },
    {
      "cell_type": "code",
      "source": [
        "def optimize (obj):\n",
        "  #format the average value for each action, return the most appealing one\n",
        "  completeData = [[1,0],[2,0],[3,0],[4,0],[5,0],[6,0],[7,0],[8,0],[9,0]]\n",
        "  numCases = [0,0,0,0,0,0,0,0,0]\n",
        "  for i in range (0, len(completeData)):\n",
        "    for j in range (len(obj.action)-21, len(obj.action)):\n",
        "      if(completeData[i][0] == obj.action[j]):\n",
        "        completeData[i][1] += obj.state[j]\n",
        "        numCases[i] += 1\n",
        "  finalData = [[1,0],[2,0],[3,0],[4,0],[5,0],[6,0],[7,0],[8,0],[9,0]]\n",
        "  for i in range (0, len(numCases)):\n",
        "    if(numCases[i>>0]):\n",
        "      finalData[i][1] = (completeData[i][1]/numCases[i])\n",
        "  max = 0\n",
        "  maxion = 1\n",
        "  for i in range(0, len(finalData)):\n",
        "    if(finalData[i][1]>=max):\n",
        "      max = finalData[i][1]\n",
        "      maxion = i+1\n",
        "  setPosition(obj, maxion)\n",
        "  return maxion"
      ],
      "metadata": {
        "id": "87_AFKOtdGrI"
      },
      "execution_count": null,
      "outputs": []
    },
    {
      "cell_type": "code",
      "source": [
        "\n",
        "def setPosition (obj, move):\n",
        "  if(random.random()<0.25):\n",
        "    move = random.randint(1,9)\n",
        "  if(move == 1):\n",
        "    obj.position[0].append(obj.position[0][-1] -1)\n",
        "    obj.position[1].append(obj.position[0][-1] +1)\n",
        "  elif(move ==2):\n",
        "    obj.position[0].append(obj.position[0][-1] -0)\n",
        "    obj.position[1].append(obj.position[0][-1] +1)\n",
        "  elif(move ==3):\n",
        "    obj.position[0].append(obj.position[0][-1] +1)\n",
        "    obj.position[1].append(obj.position[0][-1] +1)\n",
        "  elif(move==4):\n",
        "    obj.position[0].append(obj.position[0][-1] -1)\n",
        "    obj.position[1].append(obj.position[0][-1] +0)\n",
        "  elif(move==5):\n",
        "    obj.position[0].append(obj.position[0][-1] -0)\n",
        "    obj.position[1].append(obj.position[0][-1] +0)\n",
        "  elif(move==6):\n",
        "    obj.position[0].append(obj.position[0][-1] +1)\n",
        "    obj.position[1].append(obj.position[0][-1] +0)\n",
        "  elif(move==7):\n",
        "    obj.position[0].append(obj.position[0][-1] -1)\n",
        "    obj.position[1].append(obj.position[0][-1] -1)\n",
        "  elif(move==8):\n",
        "    obj.position[0].append(obj.position[0][-1] +0)\n",
        "    obj.position[1].append(obj.position[0][-1] -1)\n",
        "  elif(move==9):\n",
        "    obj.position[0].append(obj.position[0][-1] +1)\n",
        "    obj.position[1].append(obj.position[0][-1] -1)\n",
        "\n",
        "#Provide reward to the state of being in new position\n",
        "  x=obj.position[0][-1]\n",
        "  y=obj.position[1][-1]\n",
        "  if((y<=2 and y>=-2)):\n",
        "    addData(obj, move, random.randint(0,4))\n",
        "  elif(y>=2 and obj.position[1][-1]<obj.position[1][-2]):\n",
        "    addData(obj, move, random.randint(8,11))\n",
        "  elif(y<=-2 and obj.position[1][-1]>obj.position[1][-2]):\n",
        "    addData(obj, move, random.randint(8,11))\n",
        "  else:\n",
        "    addData(obj, move, random.randint(-11,-9))\n"
      ],
      "metadata": {
        "id": "O01U8uzHfLQP"
      },
      "execution_count": null,
      "outputs": []
    },
    {
      "cell_type": "code",
      "source": [
        "def addData (obj, a, s):\n",
        "  obj.action.append(a)\n",
        "  obj.state.append(s)"
      ],
      "metadata": {
        "id": "h1UmmeClePi5"
      },
      "execution_count": null,
      "outputs": []
    },
    {
      "cell_type": "code",
      "source": [
        "def reset(obj):\n",
        "  obj.position[0].append(0)\n",
        "  obj.position[1].append(0)"
      ],
      "metadata": {
        "id": "M2Lg1xsqzO8A"
      },
      "execution_count": null,
      "outputs": []
    },
    {
      "cell_type": "code",
      "source": [
        "#Define object, position grapher, etc\n",
        "Example = Swimmer([],[])"
      ],
      "metadata": {
        "id": "jLcgRWc_Ie_Z"
      },
      "execution_count": null,
      "outputs": []
    },
    {
      "cell_type": "code",
      "source": [
        "#simulate for basic data:\n",
        "for i in range(0,100):\n",
        "  addData(Example, random.randint(1, 9), random.randint(-2, 2))"
      ],
      "metadata": {
        "id": "UUIiSy84dSR0"
      },
      "execution_count": null,
      "outputs": []
    },
    {
      "cell_type": "code",
      "source": [
        "#optimize x times:\n",
        "for i in range(0,5000):\n",
        "  optimize(Example)"
      ],
      "metadata": {
        "id": "bGJwJCTulfEG"
      },
      "execution_count": null,
      "outputs": []
    },
    {
      "cell_type": "code",
      "source": [
        "#graph:\n",
        "xg=[]\n",
        "yg=[]\n",
        "for i in range(len(Example.position[0])-51, len(Example.position[0])-1):\n",
        "  xg.append(Example.position[0][i])\n",
        "  yg.append(Example.position[1][i])\n",
        "plt.plot(xg, yg)\n",
        "\n",
        "Xx = [-1,0,1]\n",
        "Xy = [0,0,0]\n",
        "plt.plot(Xx,Xy, color = 'black')\n",
        "\n",
        "Yy = [-1,0,1]\n",
        "Yx = [0,0,0]\n",
        "plt.plot(Yx,Yy, color = 'black')\n",
        "\n",
        "#graph bounds\n",
        "max = 0\n",
        "min = 0\n",
        "for i in range (0, len(Example.position[0])-1):\n",
        "  if(Example.position[0][i]>=max):\n",
        "    max = Example.position[0][i]\n",
        "  if(Example.position[0][i]<=min):\n",
        "    min = Example.position[0][i]\n",
        "xBound = list(range(min, max+1))\n",
        "yBound1 = []\n",
        "yBound2 = []\n",
        "for i in range(0, len(xBound)):\n",
        "  yBound1.append(2)\n",
        "  yBound2.append(-2)\n",
        "\n",
        "plt.plot(xBound, yBound1, color = 'orange', linestyle = '--')\n",
        "plt.plot(xBound, yBound2, color = 'orange', linestyle = '--')\n",
        "\n",
        "#Find success rate:\n",
        "numSuccess = 0\n",
        "for i in range(0, len(Example.position[1])-1):\n",
        "  if(Example.position[1][i]>=-2 and Example.position[1][i]<=2):\n",
        "    numSuccess+=1\n",
        "numSuccess/=(len(Example.position[1]))\n",
        "numSuccess*=100\n",
        "print(\"\\n\")\n",
        "print(\"Success defined as remaining within orange bounds:\")\n",
        "print(\"The percentage success is \" +str(numSuccess)+\"%\")\n",
        "print(\"\\n\")\n",
        "print(\"Shown is the last 50 steps made, visualizing the optimization as the model is provided more data\")\n",
        "print(\"\\n\")\n"
      ],
      "metadata": {
        "id": "jnQJj44qlg1o",
        "colab": {
          "base_uri": "https://localhost:8080/",
          "height": 586
        },
        "outputId": "88686cea-680a-4c77-adf6-303f62c434d4"
      },
      "execution_count": null,
      "outputs": [
        {
          "output_type": "stream",
          "name": "stdout",
          "text": [
            "\n",
            "\n",
            "Success defined as remaining within orange bounds:\n",
            "The percentage success is 43.51129774045191%\n",
            "\n",
            "\n",
            "Shown is the last 50 steps made, visualizing the optimization as the model is provided more data\n",
            "\n",
            "\n"
          ]
        },
        {
          "output_type": "display_data",
          "data": {
            "text/plain": [
              "<Figure size 640x480 with 1 Axes>"
            ],
            "image/png": "[encoded data removed]"
          },
          "metadata": {}
        }
      ]
    }
  ]
}