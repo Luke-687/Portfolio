{
  "nbformat": 4,
  "nbformat_minor": 0,
  "metadata": {
    "colab": {
      "provenance": [],
      "authorship_tag": "ABX9TyO+aICU7FDbd70Sqf3osz/J",
      "include_colab_link": true
    },
    "kernelspec": {
      "name": "python3",
      "display_name": "Python 3"
    },
    "language_info": {
      "name": "python"
    }
  },
  "cells": [
    {
      "cell_type": "markdown",
      "metadata": {
        "id": "view-in-github",
        "colab_type": "text"
      },
      "source": [
        "<a href=\"https://colab.research.google.com/github/Luke-687/Portfolio/blob/main/SpecificPhysicsApplications3_Animated_Simple_Collisiom.ipynb\" target=\"_parent\"><img src=\"https://colab.research.google.com/assets/colab-badge.svg\" alt=\"Open In Colab\"/></a>"
      ]
    },
    {
      "cell_type": "code",
      "execution_count": null,
      "metadata": {
        "id": "E26lzQ8iQoG6"
      },
      "outputs": [],
      "source": [
        "#Help to visualize changes in momentum, begin with mass m, colides with mass m moving at velocity v, amd then carries on, show this animation:\n",
        "\n",
        "#the one which begins at velocity v\n",
        "xPos1 = [-3]\n",
        "\n",
        "#the one which is collided into\n",
        "xPos2 = [5.5]\n",
        "\n",
        "#run for 25 seconds\n",
        "v = 2\n",
        "for i in range (0,25):\n",
        "  if(xPos1[-1]<5):\n",
        "    xPos1.append(xPos1[-1]+v)\n",
        "    xPos2.append(5.5)\n",
        "  if(xPos1[-1]==5):\n",
        "    v = 1\n",
        "  if(v==1):\n",
        "    xPos1.append(xPos1[-1]+v)\n",
        "    xPos2.append(xPos2[-1]+v)\n"
      ]
    },
    {
      "cell_type": "code",
      "source": [
        "#visualize it\n",
        "import matplotlib.pyplot as plt\n",
        "import time\n",
        "\n",
        "print(xPos1)\n",
        "print(xPos2)\n",
        "\n",
        "plt.xlim(-10, 35)\n",
        "plt.ylim(-1, 1)\n",
        "plt.show(block=False)\n",
        "\n",
        "# Iterate up to the minimum length of xPos1 and xPos2\n",
        "for i in range(min(len(xPos1), len(xPos2))):\n",
        "  x = [-5, xPos1[i], xPos2[i], 30]\n",
        "  y = [0, 0, 0, 0]\n",
        "  plt.cla()  # Clear the previous points\n",
        "  plt.xlim(-10, 35)\n",
        "  plt.ylim(-1, 1)\n",
        "  plt.scatter(xPos1[i], 0, color='red', s=200, label='Mass 1')\n",
        "  plt.scatter(xPos2[i], 0, color='blue', s=200, label='Mass 2')\n",
        "  plt.pause(0.1)\n",
        "\n",
        "# Keep the last plot visible after the loop finishes\n",
        "plt.show()"
      ],
      "metadata": {
        "id": "bMRjVeadENRf"
      },
      "execution_count": null,
      "outputs": []
    }
  ]
}