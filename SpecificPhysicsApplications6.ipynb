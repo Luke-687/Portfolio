{
  "nbformat": 4,
  "nbformat_minor": 0,
  "metadata": {
    "colab": {
      "provenance": [],
      "authorship_tag": "ABX9TyOUscH7OWqEEWmDdzwEWeID",
      "include_colab_link": true
    },
    "kernelspec": {
      "name": "python3",
      "display_name": "Python 3"
    },
    "language_info": {
      "name": "python"
    }
  },
  "cells": [
    {
      "cell_type": "markdown",
      "metadata": {
        "id": "view-in-github",
        "colab_type": "text"
      },
      "source": [
        "<a href=\"https://colab.research.google.com/github/Luke-687/Portfolio/blob/main/SpecificPhysicsApplications6.ipynb\" target=\"_parent\"><img src=\"https://colab.research.google.com/assets/colab-badge.svg\" alt=\"Open In Colab\"/></a>"
      ]
    },
    {
      "cell_type": "code",
      "execution_count": 22,
      "metadata": {
        "colab": {
          "base_uri": "https://localhost:8080/",
          "height": 470
        },
        "id": "tAw_I3KBbdnq",
        "outputId": "75423460-d69d-43db-c40b-f0cb658eae47"
      },
      "outputs": [
        {
          "name": "stdout",
          "output_type": "stream",
          "text": [
            "How many seconds have passed? 11.59\n"
          ]
        },
        {
          "output_type": "execute_result",
          "data": {
            "text/plain": [
              "[<matplotlib.lines.Line2D at 0x78ed017ed310>]"
            ]
          },
          "metadata": {},
          "execution_count": 22
        },
        {
          "output_type": "display_data",
          "data": {
            "text/plain": [
              "<Figure size 640x480 with 1 Axes>"
            ],
            "image/png": "[encoded data removed]"
          },
          "metadata": {}
        }
      ],
      "source": [
        "import math\n",
        "import matplotlib.pyplot as plt\n",
        "from matplotlib.patches import Circle\n",
        "\n",
        "#Random release spinning thingy (imagine something spinning and carrying a ball on its outer edge, pick a second, and then release this ball, and show visual of its path from 0,0) (Assume moving counterclockwise)\n",
        "time = input(\"How many seconds have passed? \")\n",
        "\n",
        "#Assume 1 spin every second, so 2pi radians per second\n",
        "\n",
        "time=float(time)\n",
        "posRadians = 2*math.pi*time\n",
        "\n",
        "#define point on circle which thing is released from:\n",
        "x = math.cos(posRadians)\n",
        "y =  math.sin(posRadians)\n",
        "\n",
        "#slope of line thing is launched along:\n",
        "if(y == 0):\n",
        "  #Case where it goes straight up\n",
        "  print(\"hi\")\n",
        "else:\n",
        "  slope = -x/y\n",
        "xPath = [x]\n",
        "yPath= [y]\n",
        "for i in range (1,20):\n",
        "  xPath.append(xPath[-1]-x)\n",
        "  yPath.append(yPath[-1]+y)\n",
        "\n",
        "fig, ax = plt.subplots()\n",
        "circle = Circle((0, 0), 0.75, color='blue', fill=True)\n",
        "ax.add_patch(circle)\n",
        "ax.set_aspect('equal')\n",
        "ax.set_xlim(-20, 20)\n",
        "ax.set_ylim(-20, 20)\n",
        "\n",
        "plt.plot(xPath,yPath)"
      ]
    }
  ]
}