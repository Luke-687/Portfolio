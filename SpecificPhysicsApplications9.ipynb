{
  "nbformat": 4,
  "nbformat_minor": 0,
  "metadata": {
    "colab": {
      "provenance": [],
      "authorship_tag": "ABX9TyNmocsuz6J8+5rzeSuBKIsl",
      "include_colab_link": true
    },
    "kernelspec": {
      "name": "python3",
      "display_name": "Python 3"
    },
    "language_info": {
      "name": "python"
    }
  },
  "cells": [
    {
      "cell_type": "markdown",
      "metadata": {
        "id": "view-in-github",
        "colab_type": "text"
      },
      "source": [
        "<a href=\"https://colab.research.google.com/github/Luke-687/Portfolio/blob/main/SpecificPhysicsApplications9.ipynb\" target=\"_parent\"><img src=\"https://colab.research.google.com/assets/colab-badge.svg\" alt=\"Open In Colab\"/></a>"
      ]
    },
    {
      "cell_type": "code",
      "execution_count": 14,
      "metadata": {
        "id": "rjS1Sn7uKTnG"
      },
      "outputs": [],
      "source": [
        "#Idea: Will it takeoff??\n",
        "#An airplane lift off predictor based on angle, force of engines, and distance of runway\n",
        "import math\n",
        "\n",
        "def predictor(massPlane, forcePlane, anglePlane, runwayLength):\n",
        "  #Caluclate netforce up\n",
        "  accelrationForward = forcePlane/massPlane\n",
        "  timeRunway =  math.sqrt(2* runwayLength/accelrationForward)\n",
        "  finalVelForward = timeRunway * accelrationForward\n",
        "  finalVelUp = finalVelForward * math.sin(anglePlane*math.pi/180)\n",
        "  finalVelForward = finalVelForward * math.cos(anglePlane*math.pi/180)\n",
        "  if(massPlane*10<forcePlane*math.sin(anglePlane*math.pi/180)):\n",
        "    return [finalVelUp, finalVelForward]\n",
        "  else:\n",
        "    return [\"Will fail to sustain takeoff\"]"
      ]
    },
    {
      "cell_type": "code",
      "source": [
        "results=predictor(1000,100000,45,1000)\n",
        "if(len(results) == 1):\n",
        "  print(results[0])\n",
        "else:\n",
        "  print(\"This plane will take off with upwards velocity of \" + str(int(results[0])) + \" m/s and forward velocity of \" + str(int(results[1])) + \" m/s\")"
      ],
      "metadata": {
        "colab": {
          "base_uri": "https://localhost:8080/"
        },
        "id": "yGXW-QLglceu",
        "outputId": "5489c21f-72a2-4dc4-b71e-bbbf93fb684c"
      },
      "execution_count": 19,
      "outputs": [
        {
          "output_type": "stream",
          "name": "stdout",
          "text": [
            "This plane will take off with upwards velocity of 316 m/s and forward velocity of 316 m/s\n"
          ]
        }
      ]
    }
  ]
}