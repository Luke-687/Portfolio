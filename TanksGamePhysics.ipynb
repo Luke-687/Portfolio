{
  "nbformat": 4,
  "nbformat_minor": 0,
  "metadata": {
    "colab": {
      "provenance": [],
      "authorship_tag": "ABX9TyNjT7p8siMejP+CTpy9wJjT",
      "include_colab_link": true
    },
    "kernelspec": {
      "name": "python3",
      "display_name": "Python 3"
    },
    "language_info": {
      "name": "python"
    }
  },
  "cells": [
    {
      "cell_type": "markdown",
      "metadata": {
        "id": "view-in-github",
        "colab_type": "text"
      },
      "source": [
        "<a href=\"https://colab.research.google.com/github/Luke-687/Portfolio/blob/main/TanksGamePhysics.ipynb\" target=\"_parent\"><img src=\"https://colab.research.google.com/assets/colab-badge.svg\" alt=\"Open In Colab\"/></a>"
      ]
    },
    {
      "cell_type": "code",
      "execution_count": 39,
      "metadata": {
        "id": "jfwVMX3TGlkJ"
      },
      "outputs": [],
      "source": [
        "import math\n",
        "#Set up the game screen including position of tower and position of tanks\n",
        "class defineScene:\n",
        "  def __init__(self, towerHeight):\n",
        "    self.tank1 = 3\n",
        "    self.tank2 = 3\n",
        "    self.posTank1 = [2,0]\n",
        "    self.posTank2 = [8,0]\n",
        "    self.tower = towerHeight\n",
        "    self.towerPosX = 5"
      ]
    },
    {
      "cell_type": "code",
      "source": [
        "class playGameNoTower:\n",
        "  def __init__(self, scene):\n",
        "    self.turn = 1\n",
        "    self.angle = 0\n",
        "    self.velocity = 0\n",
        "    self.tank1 = scene.tank1\n",
        "    self.tank2 = scene.tank2\n",
        "    self.posTank1 = scene.posTank1\n",
        "    self.posTank2 = scene.posTank2\n",
        "\n",
        "  def makeMove(self, angleIn,velocityIn):\n",
        "    self.angle = angleIn\n",
        "    self.velocity = velocityIn\n",
        "    xSim = []\n",
        "    ySim = []\n",
        "    if(self.turn == 1):\n",
        "      #Left sides turn\n",
        "      currentX = self.posTank1[0]\n",
        "      currentY = self.posTank1[1]\n",
        "      landed = False\n",
        "      time=0\n",
        "      while(not landed):\n",
        "        time+=0.01\n",
        "        xSim.append(currentX)\n",
        "        ySim.append(currentY)\n",
        "        currentX = 2+self.velocity*math.cos((self.angle*math.pi/180))*time\n",
        "        currentY = 1/2*(-10)*(time**2)+(self.velocity*math.sin((self.angle*math.pi/180)))*time\n",
        "        if(currentY<=0):\n",
        "          landed = True\n",
        "        if(landed and currentX+0.5>8 and currentX-0.5<8):\n",
        "          self.tank2 -=1\n",
        "      self.turn *= -1\n",
        "      return xSim,ySim\n",
        "    elif(self.turn == -1):\n",
        "      #Right sides turn\n",
        "      currentX = self.posTank2[0]\n",
        "      currentY = self.posTank2[1]\n",
        "      landed = False\n",
        "      time=0\n",
        "      while(not landed):\n",
        "        time+=0.01\n",
        "        xSim.append(currentX)\n",
        "        ySim.append(currentY)\n",
        "        currentX = 8-self.velocity*math.cos((self.angle*math.pi/180))*time\n",
        "        currentY = 1/2*(-10)*(time**2)+(self.velocity*math.sin((self.angle*math.pi/180)))*time\n",
        "        if(currentY<=0):\n",
        "          landed = True\n",
        "        if(landed and currentX-0.5<2 and currentX+0.5>2):\n",
        "          self.tank1 -=1\n",
        "      self.turn*=-1\n",
        "      return xSim,ySim\n",
        "\n",
        "  def checkWin(self):\n",
        "    if(self.tank1 == 0):\n",
        "      print(\"Right side wins\")\n",
        "      return True\n",
        "    elif(self.tank2==0):\n",
        "      print(\"Left side wins\")\n",
        "      return True\n",
        "    else:\n",
        "      return False"
      ],
      "metadata": {
        "id": "aL5lF8ILMGO_"
      },
      "execution_count": 38,
      "outputs": []
    },
    {
      "cell_type": "code",
      "source": [
        "import matplotlib.pyplot as plt\n",
        "\n",
        "#playItWithNoTower\n",
        "playingScene = defineScene(0)\n",
        "testGame = playGameNoTower(playingScene)\n",
        "\n",
        "turns= 0\n",
        "while(not (testGame.checkWin()==True)):\n",
        "  turns+=1\n",
        "  plt.xlim(0,10)\n",
        "  plt.ylim(0,10)\n",
        "  plt.scatter([2],[0], color = \"red\", s=200)\n",
        "  plt.scatter([8],[0], color = \"blue\", s=200)\n",
        "  print(\"Tank 1: \"+str(playingScene.tank1)+ \"   -----   Tank 2: \" + str(playingScene.tank2) +\"\\n\")\n",
        "  vel = (input(\"What is the velocity? \"))\n",
        "  if(vel == \"end\"):\n",
        "    break\n",
        "  vel = float(vel)\n",
        "  ang = float(input(\"What is the angle? \"))\n",
        "  if(not turns ==1):\n",
        "    plt.close\n",
        "  x,y = testGame.makeMove(ang, vel)\n",
        "  plt.scatter(x,y, color = \"green\")\n",
        "  plt.show()\n"
      ],
      "metadata": {
        "colab": {
          "base_uri": "https://localhost:8080/",
          "height": 974
        },
        "id": "iCGmSgZMUeg5",
        "outputId": "978dc1f5-ae8d-4870-b838-65cc9e9ed067"
      },
      "execution_count": 37,
      "outputs": [
        {
          "name": "stdout",
          "output_type": "stream",
          "text": [
            "Tank 1: 3   -----   Tank 2: 3\n",
            "\n",
            "What is the velocity? 10\n",
            "What is the angle? 45\n"
          ]
        },
        {
          "output_type": "display_data",
          "data": {
            "text/plain": [
              "<Figure size 640x480 with 1 Axes>"
            ],
            "image/png": "[encoded data removed]"
          },
          "metadata": {}
        },
        {
          "name": "stdout",
          "output_type": "stream",
          "text": [
            "Tank 1: 3   -----   Tank 2: 3\n",
            "\n",
            "What is the velocity? end\n"
          ]
        },
        {
          "output_type": "display_data",
          "data": {
            "text/plain": [
              "<Figure size 640x480 with 1 Axes>"
            ],
            "image/png": "[encoded data removed]"
          },
          "metadata": {}
        }
      ]
    }
  ]
}