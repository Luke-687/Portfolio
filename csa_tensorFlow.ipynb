{
  "nbformat": 4,
  "nbformat_minor": 0,
  "metadata": {
    "colab": {
      "provenance": [],
      "authorship_tag": "ABX9TyMDptlzAzhqxfeJTSz5pPcX",
      "include_colab_link": true
    },
    "kernelspec": {
      "name": "python3",
      "display_name": "Python 3"
    },
    "language_info": {
      "name": "python"
    }
  },
  "cells": [
    {
      "cell_type": "markdown",
      "metadata": {
        "id": "view-in-github",
        "colab_type": "text"
      },
      "source": [
        "<a href=\"https://colab.research.google.com/github/Luke-687/Portfolio/blob/main/csa_tensorFlow.ipynb\" target=\"_parent\"><img src=\"https://colab.research.google.com/assets/colab-badge.svg\" alt=\"Open In Colab\"/></a>"
      ]
    },
    {
      "cell_type": "code",
      "execution_count": null,
      "metadata": {
        "colab": {
          "base_uri": "https://localhost:8080/"
        },
        "id": "HBlldm7uI-1M",
        "outputId": "72912522-ebc6-4351-f5f6-67013fb27249"
      },
      "outputs": [
        {
          "output_type": "stream",
          "name": "stderr",
          "text": [
            "/usr/local/lib/python3.11/dist-packages/keras/src/layers/core/dense.py:87: UserWarning: Do not pass an `input_shape`/`input_dim` argument to a layer. When using Sequential models, prefer using an `Input(shape)` object as the first layer in the model instead.\n",
            "  super().__init__(activity_regularizer=activity_regularizer, **kwargs)\n"
          ]
        }
      ],
      "source": [
        "import tensorflow as tf\n",
        "import numpy as np\n",
        "import matplotlib.pyplot as plt\n",
        "\n",
        "# Input Data\n",
        "side_length = [[3,4], [16,63], [8,15], [20,21], [36,77], [7,24], [160,231],\n",
        "               [85,132]]\n",
        "hypotenuse = [5, 65, 17, 29, 85, 25, 281, 137]\n",
        "side_length = np.array(side_length)\n",
        "hypotenuse = np.array(hypotenuse)\n",
        "\n",
        "model = tf.keras.Sequential([\n",
        "    # Add code here\n",
        "    tf.keras.layers.Dense(units=3, input_shape=[2,]),\n",
        "    tf.keras.layers.Dense(units=3),\n",
        "    tf.keras.layers.Dense(units=1)\n",
        "    ])\n",
        "\n",
        "model.compile(loss=\"mean_squared_error\", optimizer=tf.keras.optimizers.Adam(0.1))\n",
        "\n",
        "# Add code below inside ( )\n",
        "history = model.fit(side_length, hypotenuse, epochs = 100, verbose = False)\n",
        "\n"
      ]
    }
  ]
}