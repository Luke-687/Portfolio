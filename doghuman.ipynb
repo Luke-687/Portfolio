{
  "nbformat": 4,
  "nbformat_minor": 0,
  "metadata": {
    "colab": {
      "provenance": [],
      "include_colab_link": true
    },
    "kernelspec": {
      "name": "python3",
      "display_name": "Python 3"
    },
    "language_info": {
      "name": "python"
    }
  },
  "cells": [
    {
      "cell_type": "markdown",
      "metadata": {
        "id": "view-in-github",
        "colab_type": "text"
      },
      "source": [
        "<a href=\"https://colab.research.google.com/github/Luke-687/Portfolio/blob/main/doghuman.ipynb\" target=\"_parent\"><img src=\"https://colab.research.google.com/assets/colab-badge.svg\" alt=\"Open In Colab\"/></a>"
      ]
    },
    {
      "cell_type": "code",
      "source": [
        "import pandas as pd\n",
        "import numpy as np\n",
        "from keras.models import Sequential\n",
        "from keras.layers import Dense\n",
        "\n",
        "model = Sequential()\n",
        "model.add(Dense(units = 16))\n",
        "model.add(Dense(units = 1))\n",
        "\n",
        "df7 = pd.read_csv(\"dog.csv\")\n",
        "X7 = df7[\"human\"]\n",
        "Y7 = df7[\"dog\"]\n",
        "X7 = X7.values.reshape(-1,1)\n",
        "Y7 = Y7.values.reshape(-1,1)\n",
        "\n",
        "model.compile(optimizer = 'rmsprop', loss = 'mse')\n",
        "model.fit(X7, Y7, batch_size = 1, epochs = 20)\n",
        "\n",
        "predictions = model.predict(np.array([[19]]))\n",
        "print(predictions[0])"
      ],
      "metadata": {
        "colab": {
          "base_uri": "https://localhost:8080/"
        },
        "id": "43jKhHjYyXDF",
        "outputId": "dc888eff-932d-4d8c-8605-c181f18b021f"
      },
      "execution_count": null,
      "outputs": [
        {
          "output_type": "stream",
          "name": "stdout",
          "text": [
            "\u001b[1m500/500\u001b[0m \u001b[32m━━━━━━━━━━━━━━━━━━━━\u001b[0m\u001b[37m\u001b[0m \u001b[1m1s\u001b[0m 1ms/step - loss: 3035918.0000\n",
            "\u001b[1m1/1\u001b[0m \u001b[32m━━━━━━━━━━━━━━━━━━━━\u001b[0m\u001b[37m\u001b[0m \u001b[1m0s\u001b[0m 64ms/step\n",
            "[82.01939]\n"
          ]
        }
      ]
    }
  ]
}